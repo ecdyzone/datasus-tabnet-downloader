{
 "cells": [
  {
   "cell_type": "markdown",
   "id": "49cb70da-b739-40f4-8cd4-630ad2867e18",
   "metadata": {},
   "source": [
    "# Instalações e Importações"
   ]
  },
  {
   "cell_type": "code",
   "execution_count": null,
   "id": "e932960c-2160-423f-b2fa-89200edcd846",
   "metadata": {},
   "outputs": [],
   "source": [
    "!pip install selenium\n",
    "!apt-get update \n",
    "!apt install chromium-chromedriver"
   ]
  },
  {
   "cell_type": "code",
   "execution_count": 1,
   "id": "b0d6b33d-6466-4290-b282-ac8fbc4590c3",
   "metadata": {},
   "outputs": [],
   "source": [
    "import time\n",
    "from selenium import webdriver\n",
    "from selenium.webdriver.common.by import By\n",
    "from selenium.webdriver.support import expected_conditions as EC\n",
    "from selenium.webdriver.support.ui import WebDriverWait\n",
    "from selenium.webdriver.support.ui import Select\n",
    "\n",
    "# para renomear arquivos automaticamente\n",
    "\n",
    "import os"
   ]
  },
  {
   "cell_type": "markdown",
   "id": "75ab5bbb-e787-4d2e-b2ba-ce780d6fc2d1",
   "metadata": {},
   "source": [
    "# Opções\n",
    "\n",
    "Aqui temos 2 opções pra baixar os dados, uma pro tabnet antigo e uma pro mais atual. Escolha a que você quer e rode a célula.\n",
    "\n",
    "<div class='alert alert-info'>\n",
    "\n",
    "-> Os dados das duas versões do tabnet são levemente diferentes (Mas são diferentes).\n",
    "<br>    \n",
    "\n",
    "-> A primeira, disponível em: http://tabnet.datasus.gov.br/cgi/tabcgi.exe?pni/cnv/cpniuf.def teve sua última atualização em 2019.\n",
    "<br>\n",
    "\n",
    "-> A segunda, disponível em: http://tabnet.datasus.gov.br/cgi/dhdat.exe?bd_pni/cpnibr.def teve sua última atualização em junho de 2021. Parece ser a atual.\n",
    "<br>\n",
    "\n",
    "->*No final do notebook há uma função pra renomear os arquivos de acordo com os anos.*\n",
    "</div>"
   ]
  },
  {
   "cell_type": "markdown",
   "id": "5ff9d05f-5cc7-45ff-b7cb-f822c1f4a695",
   "metadata": {},
   "source": [
    "**CÓDIGO**\n",
    "\n",
    "Semelhanças no código:\n",
    "\n",
    "- Descomentar a linha *chrome_options.add_argument('--headless')* muda 2 coisas:\n",
    "    1. Dá pra ver a mágica do navegador rodando e clicando sozinho, super divertido\n",
    "    2. Os downloads irão pra pasta padrão de downloads, ao invés da pasta onde está rodando o notebook\n",
    "    \n",
    "Diferenças no código:\n",
    "\n",
    "- O tabnet mais atual muda de endereço quando é feito o clique para gerar a tabela, então pediu ajustes específicos de código pra rodar. Ele também muda a ordem das linhas e colunas no momento da seleção, além da estrutura HTML (XPath).\n",
    "- O tabnet antigo roda tudo na mesma aba e mesmo endereço.\n",
    "- O código para a versão mais atual abre o navegador uma vez só e mantém a atuação trocando de abas. O código para a versão até 2019 fecha o navegador e abre outra instância a cada iteração do loop *for*.\n",
    "\n"
   ]
  },
  {
   "cell_type": "markdown",
   "id": "6a50750a-ce23-40bf-b7be-1fc8324afcb1",
   "metadata": {},
   "source": [
    "## Tabnet Até 2019"
   ]
  },
  {
   "cell_type": "code",
   "execution_count": 2,
   "id": "c07247b2-29ee-4a2d-a014-60e8b7a5a76c",
   "metadata": {},
   "outputs": [
    {
     "name": "stdin",
     "output_type": "stream",
     "text": [
      "Qtos anos deseja fazer o download:  3\n"
     ]
    },
    {
     "name": "stdout",
     "output_type": "stream",
     "text": [
      "2019 - http://tabnet.datasus.gov.br/csv/A031721189_28_143_208.csv\n",
      "2018 - http://tabnet.datasus.gov.br/csv/A031741189_28_143_208.csv\n",
      "2017 - http://tabnet.datasus.gov.br/csv/A031801189_28_143_208.csv\n"
     ]
    }
   ],
   "source": [
    "# # confira o numero da linha e coluna do item desejado em http://tabnet.datasus.gov.br/cgi/tabcgi.exe?pni/cnv/cpniuf.def\n",
    "\n",
    "linha: int = 3 # unidade da federacao\n",
    "\n",
    "coluna: int = 4 # imuno\n",
    "\n",
    "opcao: int = 2019 # Ano que sera feito o download\n",
    "\n",
    "anos: int = int(input('Qtos anos deseja fazer o download: ')) # qtd de anos\n",
    "\n",
    "link_por_ano: dict = {} # dicionario a ser preenchido para posterior renomeação automatica dos arquivos\n",
    "    \n",
    "for _ in range(anos): # numero de interações referente a qtd de anos\n",
    "    # -------------- opções para abrir o site ------------ #\n",
    "    chrome_options = webdriver.ChromeOptions()\n",
    "    chrome_options.add_argument('--headless')\n",
    "    chrome_options.add_argument('--no-sandbox')\n",
    "    chrome_options.add_argument('--disable-dev-shm-usage')\n",
    "    driver = webdriver.Chrome('chromedriver', options=chrome_options)\n",
    "\n",
    "    # -------------- Abrindo o site ------------ #\n",
    "    driver.get(\"http://tabnet.datasus.gov.br/cgi/tabcgi.exe?pni/cnv/cpniuf.def\")\n",
    "    driver.maximize_window() \n",
    "\n",
    "    # -------------- localizando os elementos e clicando ------------ #\n",
    "    linhas = WebDriverWait(driver, 30).until(EC.presence_of_element_located(\n",
    "      (By.XPATH, f'// *[ @ id = \"L\"] / option[{linha}]')))\n",
    "    linhas.click()\n",
    "    time.sleep(2)  \n",
    "\n",
    "    colunas = WebDriverWait(driver, 30).until(EC.presence_of_element_located(\n",
    "      (By.XPATH, f'//*[@id=\"C\"]/option[{coluna}]')))\n",
    "    colunas.click()\n",
    "    time.sleep(2)  \n",
    "\n",
    "    conteudo_box = WebDriverWait(driver, 30).until(EC.presence_of_element_located(\n",
    "      (By.XPATH, '//select[@name=\"Incremento\"]')))\n",
    "    conteudo_box.click()\n",
    "    time.sleep(2)  \n",
    "\n",
    "    el_ano = driver.find_element(By.ID, 'A')\n",
    "    select = Select(el_ano)\n",
    "    select.deselect_all()\n",
    "    select.select_by_visible_text('{}'.format(opcao))  \n",
    "\n",
    "    # -------------- clicando no botão mostrar ------------ #\n",
    "    mostra = WebDriverWait(driver, 30).until(EC.presence_of_element_located(\n",
    "      (By.XPATH, '/html/body/div/div/center/div/form/div[4]/div[2]/div[2]/input[1]')))\n",
    "    mostra.click()\n",
    "    time.sleep(5)  \n",
    "    \n",
    "    csv_link = driver.find_elements_by_xpath('/html/body/div/div/div[3]/table[1]/tbody/tr/td[1]/a')[0]\n",
    "    link_por_ano[opcao] = csv_link.get_attribute('href')\n",
    "\n",
    "    opcao -= 1 \n",
    "\n",
    "    # -------------- clicando no botão download(csv) ------------ #\n",
    "    download = WebDriverWait(driver, 30).until(EC.presence_of_element_located(\n",
    "      (By.XPATH, '/html/body/div/div/div[3]/table[1]/tbody/tr/td[1]/a')))\n",
    "    download.click()\n",
    "\n",
    "    # -------------- espera para fazer o download ------------ #\n",
    "    time.sleep(5)  \n",
    "\n",
    "    # -------------- fechando o navegador ------------ #\n",
    "    driver.quit()\n",
    "\n",
    "for ano, link in link_por_ano.items():\n",
    "    print(ano, \"-\", link)"
   ]
  },
  {
   "cell_type": "markdown",
   "id": "940055f2-fbda-4e81-b4bf-6cd5483d1ea9",
   "metadata": {},
   "source": [
    "## Tabnet Atual"
   ]
  },
  {
   "cell_type": "code",
   "execution_count": 4,
   "id": "15a21b74-c7aa-4bdc-acaa-bc3c66030566",
   "metadata": {},
   "outputs": [
    {
     "name": "stdin",
     "output_type": "stream",
     "text": [
      "Qtos anos deseja fazer o download:  6\n"
     ]
    },
    {
     "name": "stderr",
     "output_type": "stream",
     "text": [
      "<ipython-input-4-7d37533b5fab>:75: DeprecationWarning: use driver.switch_to.window instead\n",
      "  driver.switch_to_window(driver.window_handles[1])\n"
     ]
    },
    {
     "name": "stdout",
     "output_type": "stream",
     "text": [
      "2018 - http://tabnet.datasus.gov.br/cgi/csv/cpnibr16233908377.csv\n",
      "2017 - http://tabnet.datasus.gov.br/cgi/csv/cpnibr16233908556.csv\n",
      "2016 - http://tabnet.datasus.gov.br/cgi/csv/cpnibr16233908715.csv\n",
      "2015 - http://tabnet.datasus.gov.br/cgi/csv/cpnibr16233908887.csv\n",
      "2014 - http://tabnet.datasus.gov.br/cgi/csv/cpnibr16233909050.csv\n",
      "2013 - http://tabnet.datasus.gov.br/cgi/csv/cpnibr16233909218.csv\n"
     ]
    }
   ],
   "source": [
    "# confira o numero da linha e coluna do item desejado em http://tabnet.datasus.gov.br/cgi/dhdat.exe?bd_pni/cpnibr.def\n",
    "\n",
    "linha: int = 2 # unidade da federacao\n",
    "\n",
    "coluna: int = 5 # imuno\n",
    "\n",
    "opcao: int = 2021 # Ano que sera feito o download em cada iteração. Coloque o valor do ano mais recente desejado.\n",
    "\n",
    "anos: int = int(input('Qtos anos deseja fazer o download: ')) # qtd de anos\n",
    "    \n",
    "## exemplo: opcao = 2020 e anos = 3 --> download dos anos 2020, 2019 e 2018\n",
    "    \n",
    "link_por_ano: dict = {} # dicionario a ser preenchido para posterior renomeação automatica dos arquivos\n",
    "    \n",
    "def datasus_tabnet_download(linha, coluna, opcao, anos, link_por_ano):    \n",
    "#     -------------- opções para abrir o site ------------ #\n",
    "    chrome_options = webdriver.ChromeOptions()\n",
    "    chrome_options.add_argument('--headless')\n",
    "    chrome_options.add_argument('--no-sandbox')\n",
    "    chrome_options.add_argument('--disable-dev-shm-usage')\n",
    "    driver = webdriver.Chrome('chromedriver', options=chrome_options)\n",
    "\n",
    "    # -------------- Abrindo o site ------------ #\n",
    "    driver.get(\"http://tabnet.datasus.gov.br/cgi/dhdat.exe?bd_pni/cpnibr.def\")\n",
    "    driver.maximize_window() \n",
    "    \n",
    "    for _ in range(anos): # numero de interações referente a qtd de anos\n",
    "\n",
    "        # -------------- localizando os elementos e clicando ------------ #\n",
    "        linhas = WebDriverWait(driver, 30).until(EC.presence_of_element_located(\n",
    "          (By.XPATH, f'// *[ @ id = \"L\"] / option[{linha}]'))) \n",
    "        linhas.click()\n",
    "        time.sleep(2)  \n",
    "\n",
    "        colunas = WebDriverWait(driver, 30).until(EC.presence_of_element_located(\n",
    "          (By.XPATH, f'//*[@id=\"C\"]/option[{coluna}]'))) \n",
    "        colunas.click()\n",
    "        time.sleep(2)  \n",
    "\n",
    "        conteudo_box = WebDriverWait(driver, 30).until(EC.presence_of_element_located(\n",
    "          (By.XPATH, '//*[@name=\"Incremento\"]'))) # cobertura vacinal\n",
    "        conteudo_box.click()\n",
    "        time.sleep(2)  \n",
    "\n",
    "        el_ano = driver.find_element(By.ID, 'A')\n",
    "        select = Select(el_ano)\n",
    "        select.deselect_all()\n",
    "        select.select_by_visible_text('{}'.format(opcao))  \n",
    "\n",
    "        original_window = driver.current_window_handle\n",
    "\n",
    "        # -------------- clicando no botão mostrar ------------ #\n",
    "        mostra = WebDriverWait(driver, 30).until(EC.presence_of_element_located(\n",
    "          (By.XPATH, '/html/body/center[2]/div/form/div[3]/div[2]/div[3]/input[1]'))) \n",
    "        mostra.click()\n",
    "        time.sleep(5)  \n",
    "\n",
    "    #     wait = WebDriverWait(driver, 10)\n",
    "    #     wait.until(EC.number_of_windows_to_be(2))\n",
    "\n",
    "        # -------------- clicando no botão download(csv) ------------ #\n",
    "        driver.switch_to_window(driver.window_handles[1])\n",
    "\n",
    "        csv_link = driver.find_elements_by_xpath('/html/body/center[2]/div[2]/table/tbody/tr/td[2]/a')[0]\n",
    "        link_por_ano[opcao] = csv_link.get_attribute('href')\n",
    "\n",
    "        opcao -= 1 \n",
    "\n",
    "        download = WebDriverWait(driver, 30).until(EC.presence_of_element_located(\n",
    "          (By.XPATH, '/html/body/center[2]/div[2]/table/tbody/tr/td[2]/a')))\n",
    "        download.click()\n",
    "\n",
    "        # -------------- espera para fazer o download ------------ #\n",
    "        time.sleep(5)  \n",
    "        \n",
    "        \n",
    "        #Close the tab or window\n",
    "        driver.close()\n",
    "\n",
    "        #Switch back to the old tab or window\n",
    "        driver.switch_to.window(original_window)\n",
    "\n",
    "    # -------------- fechando o navegador ------------ #\n",
    "    driver.quit()\n",
    "    \n",
    "    \n",
    "    \n",
    "datasus_tabnet_download(linha, coluna, opcao, anos, link_por_ano)\n",
    "    \n",
    "for ano, link in link_por_ano.items():\n",
    "    print(ano, \"-\", link)"
   ]
  },
  {
   "cell_type": "markdown",
   "id": "52da2ec0-2084-46b4-976b-258806f303fd",
   "metadata": {},
   "source": [
    "# Renomeando arquivos automaticamente"
   ]
  },
  {
   "cell_type": "code",
   "execution_count": 4,
   "id": "2b06dac2-4fc7-431a-b218-07f5ca7ae85f",
   "metadata": {},
   "outputs": [],
   "source": [
    "# só testei em ubuntu + jupyter, então não sei se roda certinho em outros sistemas ou no collab. Talvez precise de pequenos ajustes\n",
    "\n",
    "def renaming_downloaded_files(src: str, dst: str, base_rename: str):\n",
    "    \"\"\"src: source, caminho da pasta onde estão seus arquivos, provavelmente será a pasta Downloads\n",
    "       dst: destino, caminho da pasta para onde voce quer mover o arquivo (caso não queira, é só usar a mesma string do src)\n",
    "       base_rename: string comum à série toda. Será concatena ao ano. (Ex: coberturas_vacinais_por_imuno_segundo_unidade_da_federacao.csv\"\"\"\n",
    "    \n",
    "    for ano, link in link_por_ano.items():\n",
    "        \n",
    "        file = src + link.split(\"/\")[-1]\n",
    "        renamed_file = dst + str(ano) + '_' + base_rename\n",
    "        if os.path.isfile(file):\n",
    "            os.rename(file, renamed_file)\n",
    "        else:\n",
    "            print(file, 'does not exists')\n",
    "        \n",
    "    \n",
    "renaming_downloaded_files(  src='',\n",
    "                            dst='',\n",
    "                            base_rename = 'coberturas_vacinais_por_imuno_segundo_unidade_da_federacao.csv')"
   ]
  }
 ],
 "metadata": {
  "kernelspec": {
   "display_name": "Python 3",
   "language": "python",
   "name": "python3"
  },
  "language_info": {
   "codemirror_mode": {
    "name": "ipython",
    "version": 3
   },
   "file_extension": ".py",
   "mimetype": "text/x-python",
   "name": "python",
   "nbconvert_exporter": "python",
   "pygments_lexer": "ipython3",
   "version": "3.8.5"
  }
 },
 "nbformat": 4,
 "nbformat_minor": 5
}
